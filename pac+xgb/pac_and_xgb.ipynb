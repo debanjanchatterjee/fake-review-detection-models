{
  "nbformat": 4,
  "nbformat_minor": 0,
  "metadata": {
    "colab": {
      "name": "fake-review-detection.ipynb",
      "provenance": [],
      "machine_shape": "hm"
    },
    "kernelspec": {
      "name": "python3",
      "display_name": "Python 3"
    },
    "language_info": {
      "name": "python"
    },
    "accelerator": "GPU"
  },
  "cells": [
    {
      "cell_type": "markdown",
      "metadata": {
        "id": "PqCfUGwc5KpX"
      },
      "source": [
        "# **Importing Libraries**"
      ]
    },
    {
      "cell_type": "code",
      "metadata": {
        "id": "tREFQdInTLdz",
        "colab": {
          "base_uri": "https://localhost:8080/"
        },
        "outputId": "5c966412-7057-4b36-ba75-f217a36f84d8"
      },
      "source": [
        "from sklearn import metrics\n",
        "from sklearn.metrics import confusion_matrix\n",
        "from sklearn.linear_model import PassiveAggressiveClassifier\n",
        "from sklearn.metrics import classification_report, accuracy_score\n",
        "from wordcloud import WordCloud, STOPWORDS \n",
        "from sklearn.metrics import  f1_score\n",
        "import matplotlib.pyplot as plt \n",
        "import seaborn as sns\n",
        "from sklearn.model_selection import train_test_split\n",
        "from sklearn.metrics import  f1_score\n",
        "from sklearn.feature_extraction.text import TfidfTransformer\n",
        "from sklearn.feature_extraction.text import CountVectorizer\n",
        "from sklearn.feature_extraction.text import TfidfVectorizer\n",
        "import numpy as np \n",
        "import pandas as pd \n",
        "import re\n",
        "from xgboost import XGBClassifier\n",
        "import nltk\n",
        "from nltk.corpus import stopwords\n",
        "from nltk.stem import WordNetLemmatizer\n",
        "nltk.download('stopwords')\n",
        "nltk.download('punkt')\n",
        "nltk.download('wordnet')\n"
      ],
      "execution_count": 2,
      "outputs": [
        {
          "output_type": "stream",
          "text": [
            "[nltk_data] Downloading package stopwords to /root/nltk_data...\n",
            "[nltk_data]   Unzipping corpora/stopwords.zip.\n",
            "[nltk_data] Downloading package punkt to /root/nltk_data...\n",
            "[nltk_data]   Unzipping tokenizers/punkt.zip.\n",
            "[nltk_data] Downloading package wordnet to /root/nltk_data...\n",
            "[nltk_data]   Unzipping corpora/wordnet.zip.\n"
          ],
          "name": "stdout"
        },
        {
          "output_type": "execute_result",
          "data": {
            "text/plain": [
              "True"
            ]
          },
          "metadata": {
            "tags": []
          },
          "execution_count": 2
        }
      ]
    },
    {
      "cell_type": "markdown",
      "metadata": {
        "id": "W8S798S35Viu"
      },
      "source": [
        "# **Mounting Google Drive to read dataset**"
      ]
    },
    {
      "cell_type": "code",
      "metadata": {
        "colab": {
          "base_uri": "https://localhost:8080/"
        },
        "id": "L6PjmzveV5Sv",
        "outputId": "259721c0-58f6-4665-f851-55984e968914"
      },
      "source": [
        "from google.colab import drive                       \n",
        "drive.mount('/content/drive')"
      ],
      "execution_count": 3,
      "outputs": [
        {
          "output_type": "stream",
          "text": [
            "Mounted at /content/drive\n"
          ],
          "name": "stdout"
        }
      ]
    },
    {
      "cell_type": "markdown",
      "metadata": {
        "id": "ZPBWU4gG5b1O"
      },
      "source": [
        "# **Reading Dataset**"
      ]
    },
    {
      "cell_type": "code",
      "metadata": {
        "id": "i4IL8LzJWUvH"
      },
      "source": [
        "# reading the dataset from google drive                     \n",
        "\n",
        "dataset=pd.read_csv('/content/drive/MyDrive/nlp/dataset.csv')\n"
      ],
      "execution_count": 4,
      "outputs": []
    },
    {
      "cell_type": "code",
      "metadata": {
        "colab": {
          "base_uri": "https://localhost:8080/",
          "height": 142
        },
        "id": "64wRcoSHWrU2",
        "outputId": "948fac10-4a79-403b-e2e5-31308058bfe8"
      },
      "source": [
        "dataset.groupby(by='Label').agg('count')"
      ],
      "execution_count": 5,
      "outputs": [
        {
          "output_type": "execute_result",
          "data": {
            "text/html": [
              "<div>\n",
              "<style scoped>\n",
              "    .dataframe tbody tr th:only-of-type {\n",
              "        vertical-align: middle;\n",
              "    }\n",
              "\n",
              "    .dataframe tbody tr th {\n",
              "        vertical-align: top;\n",
              "    }\n",
              "\n",
              "    .dataframe thead th {\n",
              "        text-align: right;\n",
              "    }\n",
              "</style>\n",
              "<table border=\"1\" class=\"dataframe\">\n",
              "  <thead>\n",
              "    <tr style=\"text-align: right;\">\n",
              "      <th></th>\n",
              "      <th>Head</th>\n",
              "      <th>Body</th>\n",
              "      <th>Features</th>\n",
              "    </tr>\n",
              "    <tr>\n",
              "      <th>Label</th>\n",
              "      <th></th>\n",
              "      <th></th>\n",
              "      <th></th>\n",
              "    </tr>\n",
              "  </thead>\n",
              "  <tbody>\n",
              "    <tr>\n",
              "      <th>0</th>\n",
              "      <td>24903</td>\n",
              "      <td>24903</td>\n",
              "      <td>24903</td>\n",
              "    </tr>\n",
              "    <tr>\n",
              "      <th>1</th>\n",
              "      <td>268336</td>\n",
              "      <td>268336</td>\n",
              "      <td>268336</td>\n",
              "    </tr>\n",
              "  </tbody>\n",
              "</table>\n",
              "</div>"
            ],
            "text/plain": [
              "         Head    Body  Features\n",
              "Label                          \n",
              "0       24903   24903     24903\n",
              "1      268336  268336    268336"
            ]
          },
          "metadata": {
            "tags": []
          },
          "execution_count": 5
        }
      ]
    },
    {
      "cell_type": "code",
      "metadata": {
        "colab": {
          "base_uri": "https://localhost:8080/",
          "height": 248
        },
        "id": "bgtHRUJ3xLCC",
        "outputId": "8832d3cc-2e7d-4e50-92d7-e9209e3d63d5"
      },
      "source": [
        "original = np.array([24903,268336])\n",
        "mylabels1 = [\"Negative Samples\", \"Positive Samples\"]\n",
        "\n",
        "plt.pie(original, labels = mylabels1)\n",
        "plt.show() "
      ],
      "execution_count": 6,
      "outputs": [
        {
          "output_type": "display_data",
          "data": {
            "image/png": "[encoded data removed]",
            "text/plain": [
              "<Figure size 432x288 with 1 Axes>"
            ]
          },
          "metadata": {
            "tags": []
          }
        }
      ]
    },
    {
      "cell_type": "markdown",
      "metadata": {
        "id": "Hc2WIZNu6qzx"
      },
      "source": [
        "# **Preprocessing Dataset**"
      ]
    },
    {
      "cell_type": "code",
      "metadata": {
        "colab": {
          "base_uri": "https://localhost:8080/"
        },
        "id": "jL-PEjuOW9LP",
        "outputId": "261da0b6-20ef-4293-f659-39bc3cc02204"
      },
      "source": [
        "print(dataset.shape)"
      ],
      "execution_count": 7,
      "outputs": [
        {
          "output_type": "stream",
          "text": [
            "(293239, 4)\n"
          ],
          "name": "stdout"
        }
      ]
    },
    {
      "cell_type": "code",
      "metadata": {
        "colab": {
          "base_uri": "https://localhost:8080/",
          "height": 204
        },
        "id": "1MYajnZaXAuz",
        "outputId": "1279121d-ed9e-4c1e-e763-ff8081515756"
      },
      "source": [
        "dataset.head()"
      ],
      "execution_count": 8,
      "outputs": [
        {
          "output_type": "execute_result",
          "data": {
            "text/html": [
              "<div>\n",
              "<style scoped>\n",
              "    .dataframe tbody tr th:only-of-type {\n",
              "        vertical-align: middle;\n",
              "    }\n",
              "\n",
              "    .dataframe tbody tr th {\n",
              "        vertical-align: top;\n",
              "    }\n",
              "\n",
              "    .dataframe thead th {\n",
              "        text-align: right;\n",
              "    }\n",
              "</style>\n",
              "<table border=\"1\" class=\"dataframe\">\n",
              "  <thead>\n",
              "    <tr style=\"text-align: right;\">\n",
              "      <th></th>\n",
              "      <th>Head</th>\n",
              "      <th>Body</th>\n",
              "      <th>Label</th>\n",
              "      <th>Features</th>\n",
              "    </tr>\n",
              "  </thead>\n",
              "  <tbody>\n",
              "    <tr>\n",
              "      <th>0</th>\n",
              "      <td>food snack selection popular greek dishes</td>\n",
              "      <td>underwhelmed main courses tables sometimes har...</td>\n",
              "      <td>0</td>\n",
              "      <td>5.0 4.435897435897436 39 4.0 4.009523809523809...</td>\n",
              "    </tr>\n",
              "    <tr>\n",
              "      <th>1</th>\n",
              "      <td>little place soho wonderful</td>\n",
              "      <td>price shocked small serving soho staff little ...</td>\n",
              "      <td>0</td>\n",
              "      <td>3.0 3.0 1 4.0 4.0095238095238095 210 4 3</td>\n",
              "    </tr>\n",
              "    <tr>\n",
              "      <th>2</th>\n",
              "      <td>ordered lunch snack last friday</td>\n",
              "      <td>added regular company lunch list everyone enjo...</td>\n",
              "      <td>0</td>\n",
              "      <td>4.0 4.0 2 4.0 4.0095238095238095 210 3 4</td>\n",
              "    </tr>\n",
              "    <tr>\n",
              "      <th>3</th>\n",
              "      <td>beautiful quaint little restaurant pretty street</td>\n",
              "      <td>heard reviews lamb sandwich try happy every si...</td>\n",
              "      <td>0</td>\n",
              "      <td>4.0 4.0 1 4.0 4.0095238095238095 210 7 4</td>\n",
              "    </tr>\n",
              "    <tr>\n",
              "      <th>4</th>\n",
              "      <td>snack great place casual sit lunch especially ...</td>\n",
              "      <td>avgolemono soup lemony perfection butter bean ...</td>\n",
              "      <td>0</td>\n",
              "      <td>4.0 3.6 5 4.0 4.0095238095238095 210 6 4</td>\n",
              "    </tr>\n",
              "  </tbody>\n",
              "</table>\n",
              "</div>"
            ],
            "text/plain": [
              "                                                Head  ...                                           Features\n",
              "0          food snack selection popular greek dishes  ...  5.0 4.435897435897436 39 4.0 4.009523809523809...\n",
              "1                        little place soho wonderful  ...           3.0 3.0 1 4.0 4.0095238095238095 210 4 3\n",
              "2                    ordered lunch snack last friday  ...           4.0 4.0 2 4.0 4.0095238095238095 210 3 4\n",
              "3   beautiful quaint little restaurant pretty street  ...           4.0 4.0 1 4.0 4.0095238095238095 210 7 4\n",
              "4  snack great place casual sit lunch especially ...  ...           4.0 3.6 5 4.0 4.0095238095238095 210 6 4\n",
              "\n",
              "[5 rows x 4 columns]"
            ]
          },
          "metadata": {
            "tags": []
          },
          "execution_count": 8
        }
      ]
    },
    {
      "cell_type": "code",
      "metadata": {
        "colab": {
          "base_uri": "https://localhost:8080/"
        },
        "id": "6g4tJMr8YpTo",
        "outputId": "227b3230-c480-43c1-b310-98f302e90203"
      },
      "source": [
        "print(dataset.isnull().sum())"
      ],
      "execution_count": 9,
      "outputs": [
        {
          "output_type": "stream",
          "text": [
            "Head        0\n",
            "Body        0\n",
            "Label       0\n",
            "Features    0\n",
            "dtype: int64\n"
          ],
          "name": "stdout"
        }
      ]
    },
    {
      "cell_type": "code",
      "metadata": {
        "id": "oLs3jmRlMxV5"
      },
      "source": [
        "dataset=dataset.dropna()\n"
      ],
      "execution_count": 10,
      "outputs": []
    },
    {
      "cell_type": "code",
      "metadata": {
        "id": "rnwf7rYwMtSm"
      },
      "source": [
        "dataset=dataset.sort_values(by=['Label'], ascending=True)"
      ],
      "execution_count": 11,
      "outputs": []
    },
    {
      "cell_type": "code",
      "metadata": {
        "id": "oXp37sVJNlAQ"
      },
      "source": [
        "dataset=dataset[:50000]"
      ],
      "execution_count": 12,
      "outputs": []
    },
    {
      "cell_type": "code",
      "metadata": {
        "id": "YVnvCbkzN2N-",
        "colab": {
          "base_uri": "https://localhost:8080/",
          "height": 142
        },
        "outputId": "944f1ca4-7902-4856-a77c-c6710e712f2d"
      },
      "source": [
        "dataset.groupby(by='Label').agg('count')"
      ],
      "execution_count": 13,
      "outputs": [
        {
          "output_type": "execute_result",
          "data": {
            "text/html": [
              "<div>\n",
              "<style scoped>\n",
              "    .dataframe tbody tr th:only-of-type {\n",
              "        vertical-align: middle;\n",
              "    }\n",
              "\n",
              "    .dataframe tbody tr th {\n",
              "        vertical-align: top;\n",
              "    }\n",
              "\n",
              "    .dataframe thead th {\n",
              "        text-align: right;\n",
              "    }\n",
              "</style>\n",
              "<table border=\"1\" class=\"dataframe\">\n",
              "  <thead>\n",
              "    <tr style=\"text-align: right;\">\n",
              "      <th></th>\n",
              "      <th>Head</th>\n",
              "      <th>Body</th>\n",
              "      <th>Features</th>\n",
              "    </tr>\n",
              "    <tr>\n",
              "      <th>Label</th>\n",
              "      <th></th>\n",
              "      <th></th>\n",
              "      <th></th>\n",
              "    </tr>\n",
              "  </thead>\n",
              "  <tbody>\n",
              "    <tr>\n",
              "      <th>0</th>\n",
              "      <td>24903</td>\n",
              "      <td>24903</td>\n",
              "      <td>24903</td>\n",
              "    </tr>\n",
              "    <tr>\n",
              "      <th>1</th>\n",
              "      <td>25097</td>\n",
              "      <td>25097</td>\n",
              "      <td>25097</td>\n",
              "    </tr>\n",
              "  </tbody>\n",
              "</table>\n",
              "</div>"
            ],
            "text/plain": [
              "        Head   Body  Features\n",
              "Label                        \n",
              "0      24903  24903     24903\n",
              "1      25097  25097     25097"
            ]
          },
          "metadata": {
            "tags": []
          },
          "execution_count": 13
        }
      ]
    },
    {
      "cell_type": "code",
      "metadata": {
        "colab": {
          "base_uri": "https://localhost:8080/",
          "height": 248
        },
        "id": "Ov77rUoTy8GD",
        "outputId": "ba027a48-844b-471a-fd9f-2af34d4f47fc"
      },
      "source": [
        "us = np.array([24903,25097])\n",
        "mylabels2 = [\"Negative Samples\", \"Positive Samples\"]\n",
        "\n",
        "plt.pie(us, labels = mylabels2)\n",
        "plt.show() "
      ],
      "execution_count": 14,
      "outputs": [
        {
          "output_type": "display_data",
          "data": {
            "image/png": "[encoded data removed]",
            "text/plain": [
              "<Figure size 432x288 with 1 Axes>"
            ]
          },
          "metadata": {
            "tags": []
          }
        }
      ]
    },
    {
      "cell_type": "code",
      "metadata": {
        "id": "yOJSU4R8Ys-i"
      },
      "source": [
        "train=dataset"
      ],
      "execution_count": 24,
      "outputs": []
    },
    {
      "cell_type": "code",
      "metadata": {
        "id": "C3q81I7OZWyI"
      },
      "source": [
        "train['x']=train['Head']+' '+train['Body']"
      ],
      "execution_count": 25,
      "outputs": []
    },
    {
      "cell_type": "code",
      "metadata": {
        "colab": {
          "base_uri": "https://localhost:8080/",
          "height": 204
        },
        "id": "ztDN2UCtamBh",
        "outputId": "a130ff1e-6e7d-4347-c4e0-2da5cd91a091"
      },
      "source": [
        "train.head()\n"
      ],
      "execution_count": 26,
      "outputs": [
        {
          "output_type": "execute_result",
          "data": {
            "text/html": [
              "<div>\n",
              "<style scoped>\n",
              "    .dataframe tbody tr th:only-of-type {\n",
              "        vertical-align: middle;\n",
              "    }\n",
              "\n",
              "    .dataframe tbody tr th {\n",
              "        vertical-align: top;\n",
              "    }\n",
              "\n",
              "    .dataframe thead th {\n",
              "        text-align: right;\n",
              "    }\n",
              "</style>\n",
              "<table border=\"1\" class=\"dataframe\">\n",
              "  <thead>\n",
              "    <tr style=\"text-align: right;\">\n",
              "      <th></th>\n",
              "      <th>Head</th>\n",
              "      <th>Body</th>\n",
              "      <th>Label</th>\n",
              "      <th>Features</th>\n",
              "      <th>x</th>\n",
              "    </tr>\n",
              "  </thead>\n",
              "  <tbody>\n",
              "    <tr>\n",
              "      <th>0</th>\n",
              "      <td>food snack selection popular greek dishes</td>\n",
              "      <td>underwhelmed main courses tables sometimes har...</td>\n",
              "      <td>0</td>\n",
              "      <td>5.0 4.435897435897436 39 4.0 4.009523809523809...</td>\n",
              "      <td>food snack selection popular greek dishes unde...</td>\n",
              "    </tr>\n",
              "    <tr>\n",
              "      <th>20343</th>\n",
              "      <td>deal walkin wait nearly min guarantee well wor...</td>\n",
              "      <td>go long broth bit short noodles meat order dis...</td>\n",
              "      <td>0</td>\n",
              "      <td>5.0 5.0 1 4.0 3.965988662887629 2999 6 5</td>\n",
              "      <td>deal walkin wait nearly min guarantee well wor...</td>\n",
              "    </tr>\n",
              "    <tr>\n",
              "      <th>20342</th>\n",
              "      <td>best ramen new york city</td>\n",
              "      <td>sat bar twice always interesting watching huge...</td>\n",
              "      <td>0</td>\n",
              "      <td>4.0 4.333333333333333 3 4.0 3.965988662887629 ...</td>\n",
              "      <td>best ramen new york city sat bar twice always ...</td>\n",
              "    </tr>\n",
              "    <tr>\n",
              "      <th>20341</th>\n",
              "      <td>obsessed ramen love totto ramen</td>\n",
              "      <td>miso ramen way salty sort heavy noodles great ...</td>\n",
              "      <td>0</td>\n",
              "      <td>5.0 5.0 1 4.0 3.965988662887629 2999 6 5</td>\n",
              "      <td>obsessed ramen love totto ramen miso ramen way...</td>\n",
              "    </tr>\n",
              "    <tr>\n",
              "      <th>20340</th>\n",
              "      <td>best ramen world</td>\n",
              "      <td>loooooooooong wait prepare go lunch hour dinner</td>\n",
              "      <td>0</td>\n",
              "      <td>5.0 5.0 1 4.0 3.965988662887629 2999 4 5</td>\n",
              "      <td>best ramen world loooooooooong wait prepare go...</td>\n",
              "    </tr>\n",
              "  </tbody>\n",
              "</table>\n",
              "</div>"
            ],
            "text/plain": [
              "                                                    Head  ...                                                  x\n",
              "0              food snack selection popular greek dishes  ...  food snack selection popular greek dishes unde...\n",
              "20343  deal walkin wait nearly min guarantee well wor...  ...  deal walkin wait nearly min guarantee well wor...\n",
              "20342                           best ramen new york city  ...  best ramen new york city sat bar twice always ...\n",
              "20341                    obsessed ramen love totto ramen  ...  obsessed ramen love totto ramen miso ramen way...\n",
              "20340                                   best ramen world  ...  best ramen world loooooooooong wait prepare go...\n",
              "\n",
              "[5 rows x 5 columns]"
            ]
          },
          "metadata": {
            "tags": []
          },
          "execution_count": 26
        }
      ]
    },
    {
      "cell_type": "code",
      "metadata": {
        "colab": {
          "base_uri": "https://localhost:8080/",
          "height": 204
        },
        "id": "OhlW8kaaN81L",
        "outputId": "2711d7a3-af5d-40af-a087-c1ae3d115aa1"
      },
      "source": [
        "train.tail()"
      ],
      "execution_count": 18,
      "outputs": [
        {
          "output_type": "execute_result",
          "data": {
            "text/html": [
              "<div>\n",
              "<style scoped>\n",
              "    .dataframe tbody tr th:only-of-type {\n",
              "        vertical-align: middle;\n",
              "    }\n",
              "\n",
              "    .dataframe tbody tr th {\n",
              "        vertical-align: top;\n",
              "    }\n",
              "\n",
              "    .dataframe thead th {\n",
              "        text-align: right;\n",
              "    }\n",
              "</style>\n",
              "<table border=\"1\" class=\"dataframe\">\n",
              "  <thead>\n",
              "    <tr style=\"text-align: right;\">\n",
              "      <th></th>\n",
              "      <th>Head</th>\n",
              "      <th>Body</th>\n",
              "      <th>Label</th>\n",
              "      <th>Features</th>\n",
              "      <th>x</th>\n",
              "    </tr>\n",
              "  </thead>\n",
              "  <tbody>\n",
              "    <tr>\n",
              "      <th>165523</th>\n",
              "      <td>came friends past weekend cross bucket list ol...</td>\n",
              "      <td>lead table brought kitchen flight stairs addit...</td>\n",
              "      <td>1</td>\n",
              "      <td>3.0 3.0 1 4.0 3.9446564885496183 4716 13 3</td>\n",
              "      <td>came friends past weekend cross bucket list ol...</td>\n",
              "    </tr>\n",
              "    <tr>\n",
              "      <th>165524</th>\n",
              "      <td>apparently best pizza nyc try</td>\n",
              "      <td>naturally huge pizza fan knows helpful review ...</td>\n",
              "      <td>1</td>\n",
              "      <td>4.0 4.0 2 4.0 3.9446564885496183 4716 10 4</td>\n",
              "      <td>apparently best pizza nyc try naturally huge p...</td>\n",
              "    </tr>\n",
              "    <tr>\n",
              "      <th>165525</th>\n",
              "      <td>new york city known pizza told lombardi must</td>\n",
              "      <td>located outskirts soho surrounded cutesy bouti...</td>\n",
              "      <td>1</td>\n",
              "      <td>4.0 3.6363636363636362 11 4.0 3.94465648854961...</td>\n",
              "      <td>new york city known pizza told lombardi must l...</td>\n",
              "    </tr>\n",
              "    <tr>\n",
              "      <th>165526</th>\n",
              "      <td>one better pies nyc stuck basic margherita</td>\n",
              "      <td>cash yes tourist trap pizza good</td>\n",
              "      <td>1</td>\n",
              "      <td>3.0 3.328125 64 4.0 3.9446564885496183 4716 4 4</td>\n",
              "      <td>one better pies nyc stuck basic margherita cas...</td>\n",
              "    </tr>\n",
              "    <tr>\n",
              "      <th>165527</th>\n",
              "      <td>vegetarian basic margherita pizza added olives</td>\n",
              "      <td>great taste crunch crust ambiance nice old sch...</td>\n",
              "      <td>1</td>\n",
              "      <td>4.0 4.222222222222222 45 4.0 3.944656488549618...</td>\n",
              "      <td>vegetarian basic margherita pizza added olives...</td>\n",
              "    </tr>\n",
              "  </tbody>\n",
              "</table>\n",
              "</div>"
            ],
            "text/plain": [
              "                                                     Head  ...                                                  x\n",
              "165523  came friends past weekend cross bucket list ol...  ...  came friends past weekend cross bucket list ol...\n",
              "165524                      apparently best pizza nyc try  ...  apparently best pizza nyc try naturally huge p...\n",
              "165525       new york city known pizza told lombardi must  ...  new york city known pizza told lombardi must l...\n",
              "165526         one better pies nyc stuck basic margherita  ...  one better pies nyc stuck basic margherita cas...\n",
              "165527     vegetarian basic margherita pizza added olives  ...  vegetarian basic margherita pizza added olives...\n",
              "\n",
              "[5 rows x 5 columns]"
            ]
          },
          "metadata": {
            "tags": []
          },
          "execution_count": 18
        }
      ]
    },
    {
      "cell_type": "code",
      "metadata": {
        "colab": {
          "base_uri": "https://localhost:8080/"
        },
        "id": "HyJ-SUvFjR47",
        "outputId": "77cc585b-f1bc-4099-fc55-d153941a7bab"
      },
      "source": [
        "nltk.download('stopwords')\n",
        "from nltk.corpus import stopwords\n",
        "\n",
        "stop_words = stopwords.words('english')\n",
        "print(stop_words)"
      ],
      "execution_count": 21,
      "outputs": [
        {
          "output_type": "stream",
          "text": [
            "[nltk_data] Downloading package stopwords to /root/nltk_data...\n",
            "[nltk_data]   Package stopwords is already up-to-date!\n",
            "['i', 'me', 'my', 'myself', 'we', 'our', 'ours', 'ourselves', 'you', \"you're\", \"you've\", \"you'll\", \"you'd\", 'your', 'yours', 'yourself', 'yourselves', 'he', 'him', 'his', 'himself', 'she', \"she's\", 'her', 'hers', 'herself', 'it', \"it's\", 'its', 'itself', 'they', 'them', 'their', 'theirs', 'themselves', 'what', 'which', 'who', 'whom', 'this', 'that', \"that'll\", 'these', 'those', 'am', 'is', 'are', 'was', 'were', 'be', 'been', 'being', 'have', 'has', 'had', 'having', 'do', 'does', 'did', 'doing', 'a', 'an', 'the', 'and', 'but', 'if', 'or', 'because', 'as', 'until', 'while', 'of', 'at', 'by', 'for', 'with', 'about', 'against', 'between', 'into', 'through', 'during', 'before', 'after', 'above', 'below', 'to', 'from', 'up', 'down', 'in', 'out', 'on', 'off', 'over', 'under', 'again', 'further', 'then', 'once', 'here', 'there', 'when', 'where', 'why', 'how', 'all', 'any', 'both', 'each', 'few', 'more', 'most', 'other', 'some', 'such', 'no', 'nor', 'not', 'only', 'own', 'same', 'so', 'than', 'too', 'very', 's', 't', 'can', 'will', 'just', 'don', \"don't\", 'should', \"should've\", 'now', 'd', 'll', 'm', 'o', 're', 've', 'y', 'ain', 'aren', \"aren't\", 'couldn', \"couldn't\", 'didn', \"didn't\", 'doesn', \"doesn't\", 'hadn', \"hadn't\", 'hasn', \"hasn't\", 'haven', \"haven't\", 'isn', \"isn't\", 'ma', 'mightn', \"mightn't\", 'mustn', \"mustn't\", 'needn', \"needn't\", 'shan', \"shan't\", 'shouldn', \"shouldn't\", 'wasn', \"wasn't\", 'weren', \"weren't\", 'won', \"won't\", 'wouldn', \"wouldn't\"]\n"
          ],
          "name": "stdout"
        }
      ]
    },
    {
      "cell_type": "code",
      "metadata": {
        "id": "EaC--FGEjeJP"
      },
      "source": [
        "# nltk.download('wordnet')"
      ],
      "execution_count": 22,
      "outputs": []
    },
    {
      "cell_type": "code",
      "metadata": {
        "id": "5A4k5mofi-9t"
      },
      "source": [
        "lemmatizer=WordNetLemmatizer()\n",
        "for index,row in train.iterrows():\n",
        "    filter_sentence = ''\n",
        "    \n",
        "    sentence = row['x']\n",
        "    sentence = re.sub(r'[^\\w\\s]','',sentence) #cleaning\n",
        "    \n",
        "    words = nltk.word_tokenize(sentence) #tokenization\n",
        "    \n",
        "    words = [w for w in words if not w in stop_words]  #stopwords removal\n",
        "    \n",
        "    for word in words:\n",
        "        filter_sentence = filter_sentence + ' ' + str(lemmatizer.lemmatize(word)).lower()\n",
        "        \n",
        "    train.loc[index,'x'] = filter_sentence"
      ],
      "execution_count": 23,
      "outputs": []
    },
    {
      "cell_type": "code",
      "metadata": {
        "id": "xp_JKk3oj86r"
      },
      "source": [
        "X_train = train['x']\n",
        "Y_train = train['Label']"
      ],
      "execution_count": 27,
      "outputs": []
    },
    {
      "cell_type": "code",
      "metadata": {
        "id": "ceI2zPrikGFe"
      },
      "source": [
        "#Feature extraction using count vectorization and tfidf.\n",
        "count_vectorizer = CountVectorizer()\n",
        "count_vectorizer.fit_transform(X_train)\n",
        "freq_term_matrix = count_vectorizer.transform(X_train)\n",
        "tfidf = TfidfTransformer(norm=\"l2\")\n",
        "tfidf.fit(freq_term_matrix)\n",
        "tf_idf_matrix = tfidf.fit_transform(freq_term_matrix)"
      ],
      "execution_count": 28,
      "outputs": []
    },
    {
      "cell_type": "code",
      "metadata": {
        "colab": {
          "base_uri": "https://localhost:8080/"
        },
        "id": "G3luNdSPkbk3",
        "outputId": "78bdb769-7cac-4ba2-c6f5-dd97b9c84505"
      },
      "source": [
        "tf_idf_matrix"
      ],
      "execution_count": 29,
      "outputs": [
        {
          "output_type": "execute_result",
          "data": {
            "text/plain": [
              "<50000x60983 sparse matrix of type '<class 'numpy.float64'>'\n",
              "\twith 2382782 stored elements in Compressed Sparse Row format>"
            ]
          },
          "metadata": {
            "tags": []
          },
          "execution_count": 29
        }
      ]
    },
    {
      "cell_type": "markdown",
      "metadata": {
        "id": "ythdjJsF6yAh"
      },
      "source": [
        "# **Defining the classifiers and generating Results**"
      ]
    },
    {
      "cell_type": "code",
      "metadata": {
        "id": "92cC5orimJ6W"
      },
      "source": [
        "#split in samples\n",
        "from sklearn.model_selection import train_test_split\n",
        "X_train, X_test, y_train, y_test = train_test_split(tf_idf_matrix, Y_train, test_size=0.2, random_state=0, stratify=Y_train)"
      ],
      "execution_count": 30,
      "outputs": []
    },
    {
      "cell_type": "code",
      "metadata": {
        "colab": {
          "base_uri": "https://localhost:8080/"
        },
        "id": "fGxaQycvxiki",
        "outputId": "ff3f010c-728b-44b8-d7f5-7d68e8bb3c12"
      },
      "source": [
        "print(y_train.shape)\n",
        "print(y_test.shape)"
      ],
      "execution_count": 31,
      "outputs": [
        {
          "output_type": "stream",
          "text": [
            "(40000,)\n",
            "(10000,)\n"
          ],
          "name": "stdout"
        }
      ]
    },
    {
      "cell_type": "code",
      "metadata": {
        "id": "UlkRXYVbkq50"
      },
      "source": [
        "# from sklearn.linear_model import PassiveAggressiveClassifier\n",
        "# from sklearn.metrics import classification_report, accuracy_score\n",
        "model1= PassiveAggressiveClassifier(shuffle=True, random_state = 5)\n",
        "model1.fit(X_train, y_train)\n",
        "y_pred = model1.predict(X_test)\n",
        "cm = confusion_matrix(y_test, y_pred)"
      ],
      "execution_count": 32,
      "outputs": []
    },
    {
      "cell_type": "code",
      "metadata": {
        "colab": {
          "base_uri": "https://localhost:8080/"
        },
        "id": "uhXCRl_oup3K",
        "outputId": "2aaf4093-ff41-4b1a-cfc1-d0ea2230283c"
      },
      "source": [
        "print(cm)"
      ],
      "execution_count": 33,
      "outputs": [
        {
          "output_type": "stream",
          "text": [
            "[[3485 1496]\n",
            " [1423 3596]]\n"
          ],
          "name": "stdout"
        }
      ]
    },
    {
      "cell_type": "code",
      "metadata": {
        "colab": {
          "base_uri": "https://localhost:8080/"
        },
        "id": "wn92MVOjuvJT",
        "outputId": "8cb29960-a283-4533-bea2-7f84ced9f41e"
      },
      "source": [
        "# from sklearn.metrics import  f1_score\n",
        "print(\"f1_score(macro): {}\".format(f1_score(y_test, y_pred, average=\"macro\")))"
      ],
      "execution_count": 34,
      "outputs": [
        {
          "output_type": "stream",
          "text": [
            "f1_score(macro): 0.7080640305692065\n"
          ],
          "name": "stdout"
        }
      ]
    },
    {
      "cell_type": "code",
      "metadata": {
        "colab": {
          "base_uri": "https://localhost:8080/"
        },
        "id": "9BeAk0y5vN-e",
        "outputId": "ed52ed17-9bd5-4a15-8a63-2987d60d7443"
      },
      "source": [
        "#from sklearn.metrics import accuracy_score\n",
        "accuracy_score(y_test, y_pred)"
      ],
      "execution_count": 35,
      "outputs": [
        {
          "output_type": "execute_result",
          "data": {
            "text/plain": [
              "0.7081"
            ]
          },
          "metadata": {
            "tags": []
          },
          "execution_count": 35
        }
      ]
    },
    {
      "cell_type": "code",
      "metadata": {
        "colab": {
          "base_uri": "https://localhost:8080/"
        },
        "id": "0KBBrYO00hbi",
        "outputId": "7a98e8ac-6b32-4189-9bee-2e51aa8d177c"
      },
      "source": [
        " from sklearn.metrics import recall_score\n",
        " recall_score(y_test, y_pred)"
      ],
      "execution_count": 36,
      "outputs": [
        {
          "output_type": "execute_result",
          "data": {
            "text/plain": [
              "0.7164773859334529"
            ]
          },
          "metadata": {
            "tags": []
          },
          "execution_count": 36
        }
      ]
    },
    {
      "cell_type": "code",
      "metadata": {
        "colab": {
          "base_uri": "https://localhost:8080/"
        },
        "id": "YR0KD0Nq01dT",
        "outputId": "b7b00810-eefa-4cdb-f9f1-05961eb103ac"
      },
      "source": [
        "from sklearn.metrics import precision_score\n",
        "precision_score(y_test, y_pred)"
      ],
      "execution_count": 37,
      "outputs": [
        {
          "output_type": "execute_result",
          "data": {
            "text/plain": [
              "0.7062058130400628"
            ]
          },
          "metadata": {
            "tags": []
          },
          "execution_count": 37
        }
      ]
    },
    {
      "cell_type": "code",
      "metadata": {
        "colab": {
          "base_uri": "https://localhost:8080/",
          "height": 290
        },
        "id": "UcBTNwMBxXuy",
        "outputId": "75d366a4-493a-4e72-cfb5-b95bb3defa2b"
      },
      "source": [
        "sns.set(font_scale=1.4)#for label size\n",
        "sns.heatmap(cm,annot=True,annot_kws={\"size\": 16},fmt='1f')# font size"
      ],
      "execution_count": 38,
      "outputs": [
        {
          "output_type": "execute_result",
          "data": {
            "text/plain": [
              "<matplotlib.axes._subplots.AxesSubplot at 0x7fec1b4e13d0>"
            ]
          },
          "metadata": {
            "tags": []
          },
          "execution_count": 38
        },
        {
          "output_type": "display_data",
          "data": {
            "image/png": "[encoded data removed]",
            "text/plain": [
              "<Figure size 432x288 with 2 Axes>"
            ]
          },
          "metadata": {
            "tags": []
          }
        }
      ]
    },
    {
      "cell_type": "code",
      "metadata": {
        "id": "9cnrQWxavlx_"
      },
      "source": [
        "# from xgboost import XGBClassifier\n",
        "model2 = XGBClassifier()\n",
        "model2.fit(X_train, y_train)\n",
        "y_pred = model2.predict(X_test)\n",
        "cm = confusion_matrix(y_test, y_pred)\n"
      ],
      "execution_count": 39,
      "outputs": []
    },
    {
      "cell_type": "code",
      "metadata": {
        "colab": {
          "base_uri": "https://localhost:8080/"
        },
        "id": "4m4vkULrw4ja",
        "outputId": "f99f5f3c-570a-4674-a194-710f99df19a0"
      },
      "source": [
        "print(cm)"
      ],
      "execution_count": 40,
      "outputs": [
        {
          "output_type": "stream",
          "text": [
            "[[4032  949]\n",
            " [2061 2958]]\n"
          ],
          "name": "stdout"
        }
      ]
    },
    {
      "cell_type": "code",
      "metadata": {
        "colab": {
          "base_uri": "https://localhost:8080/"
        },
        "id": "0YxqCVX1wa_q",
        "outputId": "6bcb60db-f35e-44c3-c4c3-c6a2917b5dee"
      },
      "source": [
        "# from sklearn.metrics import  f1_score\n",
        "print(\"f1_score(macro): {}\".format(f1_score(y_test, y_pred, average=\"macro\")))"
      ],
      "execution_count": 41,
      "outputs": [
        {
          "output_type": "stream",
          "text": [
            "f1_score(macro): 0.6954875216451719\n"
          ],
          "name": "stdout"
        }
      ]
    },
    {
      "cell_type": "code",
      "metadata": {
        "colab": {
          "base_uri": "https://localhost:8080/"
        },
        "id": "vcpmGmkmwX0P",
        "outputId": "267d4066-5454-463b-a2b0-a1712573c25c"
      },
      "source": [
        "#from sklearn.metrics import accuracy_score\n",
        "accuracy_score(y_test, y_pred)"
      ],
      "execution_count": 42,
      "outputs": [
        {
          "output_type": "execute_result",
          "data": {
            "text/plain": [
              "0.699"
            ]
          },
          "metadata": {
            "tags": []
          },
          "execution_count": 42
        }
      ]
    },
    {
      "cell_type": "code",
      "metadata": {
        "colab": {
          "base_uri": "https://localhost:8080/",
          "height": 294
        },
        "id": "Vj5ZcEcNxKQh",
        "outputId": "b6e26fa0-72e2-4d93-c264-ead6f1c2ffc5"
      },
      "source": [
        "sns.set(font_scale=1.4)#for label size\n",
        "sns.heatmap(cm,annot=True,annot_kws={\"size\": 16},fmt='1f')# font size"
      ],
      "execution_count": 43,
      "outputs": [
        {
          "output_type": "execute_result",
          "data": {
            "text/plain": [
              "<matplotlib.axes._subplots.AxesSubplot at 0x7fec1a5cec90>"
            ]
          },
          "metadata": {
            "tags": []
          },
          "execution_count": 43
        },
        {
          "output_type": "display_data",
          "data": {
            "image/png": "[encoded data removed]",
            "text/plain": [
              "<Figure size 432x288 with 2 Axes>"
            ]
          },
          "metadata": {
            "tags": []
          }
        }
      ]
    }
  ]
}