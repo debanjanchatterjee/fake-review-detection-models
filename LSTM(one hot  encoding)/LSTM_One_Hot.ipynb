{
 "cells": [
  {
   "cell_type": "code",
   "execution_count": 1,
   "metadata": {},
   "outputs": [],
   "source": [
    "import pandas as pd\n",
    "import numpy as np\n",
    "import os\n",
    "from keras.preprocessing.sequence import pad_sequences\n",
    "from keras.preprocessing.text import Tokenizer\n",
    "from keras.utils import to_categorical,plot_model\n",
    "from keras.models import Input,Model,Sequential\n",
    "from keras.layers import LSTM,Embedding,Dropout,Activation,Reshape,Dense,GRU,Add,Flatten,concatenate\n",
    "\n",
    "from keras.preprocessing.text import one_hot\n",
    "from keras.preprocessing.sequence import pad_sequences"
   ]
  },
  {
   "cell_type": "code",
   "execution_count": 2,
   "metadata": {},
   "outputs": [],
   "source": [
    "data = pd.read_csv('dataset.csv')"
   ]
  },
  {
   "cell_type": "code",
   "execution_count": 3,
   "metadata": {},
   "outputs": [],
   "source": [
    "data = data.dropna()"
   ]
  },
  {
   "cell_type": "code",
   "execution_count": 4,
   "metadata": {},
   "outputs": [],
   "source": [
    "data = data.sort_values(by=['Label'], ascending=True)"
   ]
  },
  {
   "cell_type": "code",
   "execution_count": 5,
   "metadata": {},
   "outputs": [],
   "source": [
    "data = data[0:49972]"
   ]
  },
  {
   "cell_type": "code",
   "execution_count": 6,
   "metadata": {},
   "outputs": [],
   "source": [
    "data['Label'] = data['Label'].replace({0: 'Fake', 1: 'True'})"
   ]
  },
  {
   "cell_type": "code",
   "execution_count": 9,
   "metadata": {},
   "outputs": [
    {
     "data": {
      "text/html": [
       "<div>\n",
       "<style scoped>\n",
       "    .dataframe tbody tr th:only-of-type {\n",
       "        vertical-align: middle;\n",
       "    }\n",
       "\n",
       "    .dataframe tbody tr th {\n",
       "        vertical-align: top;\n",
       "    }\n",
       "\n",
       "    .dataframe thead th {\n",
       "        text-align: right;\n",
       "    }\n",
       "</style>\n",
       "<table border=\"1\" class=\"dataframe\">\n",
       "  <thead>\n",
       "    <tr style=\"text-align: right;\">\n",
       "      <th></th>\n",
       "      <th>Head</th>\n",
       "      <th>Body</th>\n",
       "      <th>Label</th>\n",
       "      <th>Features</th>\n",
       "    </tr>\n",
       "  </thead>\n",
       "  <tbody>\n",
       "    <tr>\n",
       "      <th>16095</th>\n",
       "      <td>interior dãcor spirits away japan food good</td>\n",
       "      <td>price however return ny quickly quite pricey o...</td>\n",
       "      <td>Fake</td>\n",
       "      <td>4.0 4.0 1 4.0 4.263519313304721 1165 4 4</td>\n",
       "    </tr>\n",
       "    <tr>\n",
       "      <th>16094</th>\n",
       "      <td>recently went friends</td>\n",
       "      <td>however menu little overwhelming organized goe...</td>\n",
       "      <td>Fake</td>\n",
       "      <td>4.0 4.0 1 4.0 4.263519313304721 1165 8 4</td>\n",
       "    </tr>\n",
       "    <tr>\n",
       "      <th>16093</th>\n",
       "      <td>food really amazing service feels like secret ...</td>\n",
       "      <td>careful though hungry want come early come lat...</td>\n",
       "      <td>Fake</td>\n",
       "      <td>4.0 4.0 1 4.0 4.263519313304721 1165 4 4</td>\n",
       "    </tr>\n",
       "    <tr>\n",
       "      <th>16092</th>\n",
       "      <td>probaby favorite restaurant recent work trip nyc</td>\n",
       "      <td>pork belly sweet full flavor group also enjoye...</td>\n",
       "      <td>Fake</td>\n",
       "      <td>4.0 4.0 1 4.0 4.263519313304721 1165 5 4</td>\n",
       "    </tr>\n",
       "    <tr>\n",
       "      <th>16091</th>\n",
       "      <td>love place authentic japanese food bamboo style</td>\n",
       "      <td>staff super polite like travel japan soba good...</td>\n",
       "      <td>Fake</td>\n",
       "      <td>4.0 4.0 1 4.0 4.263519313304721 1165 5 4</td>\n",
       "    </tr>\n",
       "    <tr>\n",
       "      <th>...</th>\n",
       "      <td>...</td>\n",
       "      <td>...</td>\n",
       "      <td>...</td>\n",
       "      <td>...</td>\n",
       "    </tr>\n",
       "    <tr>\n",
       "      <th>139720</th>\n",
       "      <td>place super crowded food good good said</td>\n",
       "      <td>soup dumplings worth try nothing different usu...</td>\n",
       "      <td>Fake</td>\n",
       "      <td>3.0 3.0 1 4.0 3.801781737193764 3143 13 3</td>\n",
       "    </tr>\n",
       "    <tr>\n",
       "      <th>139721</th>\n",
       "      <td>ever find joe shanghai must try soup dumplings</td>\n",
       "      <td>careful eating though soup hot dumplings punct...</td>\n",
       "      <td>Fake</td>\n",
       "      <td>3.0 2.6666666666666665 3 4.0 3.801781737193764...</td>\n",
       "    </tr>\n",
       "    <tr>\n",
       "      <th>139722</th>\n",
       "      <td>nt get hype</td>\n",
       "      <td>like add tip billmy friend went sunday noon li...</td>\n",
       "      <td>Fake</td>\n",
       "      <td>3.0 3.0 1 4.0 3.801781737193764 3143 11 3</td>\n",
       "    </tr>\n",
       "    <tr>\n",
       "      <th>16072</th>\n",
       "      <td>reading great reviews decided check place</td>\n",
       "      <td>food greatits even good yes interior fantastic...</td>\n",
       "      <td>Fake</td>\n",
       "      <td>1.0 1.0 1 4.0 4.263519313304721 1165 10 1</td>\n",
       "    </tr>\n",
       "    <tr>\n",
       "      <th>16073</th>\n",
       "      <td>dinner last night</td>\n",
       "      <td>ordered meal around pm waited minutes first di...</td>\n",
       "      <td>Fake</td>\n",
       "      <td>1.0 1.0 1 4.0 4.263519313304721 1165 9 1</td>\n",
       "    </tr>\n",
       "  </tbody>\n",
       "</table>\n",
       "<p>49966 rows × 4 columns</p>\n",
       "</div>"
      ],
      "text/plain": [
       "                                                     Head  \\\n",
       "16095         interior dãcor spirits away japan food good   \n",
       "16094                               recently went friends   \n",
       "16093   food really amazing service feels like secret ...   \n",
       "16092    probaby favorite restaurant recent work trip nyc   \n",
       "16091     love place authentic japanese food bamboo style   \n",
       "...                                                   ...   \n",
       "139720            place super crowded food good good said   \n",
       "139721     ever find joe shanghai must try soup dumplings   \n",
       "139722                                        nt get hype   \n",
       "16072           reading great reviews decided check place   \n",
       "16073                                   dinner last night   \n",
       "\n",
       "                                                     Body Label  \\\n",
       "16095   price however return ny quickly quite pricey o...  Fake   \n",
       "16094   however menu little overwhelming organized goe...  Fake   \n",
       "16093   careful though hungry want come early come lat...  Fake   \n",
       "16092   pork belly sweet full flavor group also enjoye...  Fake   \n",
       "16091   staff super polite like travel japan soba good...  Fake   \n",
       "...                                                   ...   ...   \n",
       "139720  soup dumplings worth try nothing different usu...  Fake   \n",
       "139721  careful eating though soup hot dumplings punct...  Fake   \n",
       "139722  like add tip billmy friend went sunday noon li...  Fake   \n",
       "16072   food greatits even good yes interior fantastic...  Fake   \n",
       "16073   ordered meal around pm waited minutes first di...  Fake   \n",
       "\n",
       "                                                 Features  \n",
       "16095            4.0 4.0 1 4.0 4.263519313304721 1165 4 4  \n",
       "16094            4.0 4.0 1 4.0 4.263519313304721 1165 8 4  \n",
       "16093            4.0 4.0 1 4.0 4.263519313304721 1165 4 4  \n",
       "16092            4.0 4.0 1 4.0 4.263519313304721 1165 5 4  \n",
       "16091            4.0 4.0 1 4.0 4.263519313304721 1165 5 4  \n",
       "...                                                   ...  \n",
       "139720          3.0 3.0 1 4.0 3.801781737193764 3143 13 3  \n",
       "139721  3.0 2.6666666666666665 3 4.0 3.801781737193764...  \n",
       "139722          3.0 3.0 1 4.0 3.801781737193764 3143 11 3  \n",
       "16072           1.0 1.0 1 4.0 4.263519313304721 1165 10 1  \n",
       "16073            1.0 1.0 1 4.0 4.263519313304721 1165 9 1  \n",
       "\n",
       "[49966 rows x 4 columns]"
      ]
     },
     "execution_count": 9,
     "metadata": {},
     "output_type": "execute_result"
    }
   ],
   "source": [
    "data.head(-5)"
   ]
  },
  {
   "cell_type": "code",
   "execution_count": 8,
   "metadata": {},
   "outputs": [],
   "source": [
    "df1 = data[0:4000]\n",
    "df2 = data[4001:49972]\n",
    "frames = [df2, df1]\n",
    "data = pd.concat(frames)"
   ]
  },
  {
   "cell_type": "code",
   "execution_count": 10,
   "metadata": {},
   "outputs": [],
   "source": [
    "data = data.drop(\"Features\", axis=1)  "
   ]
  },
  {
   "cell_type": "code",
   "execution_count": 11,
   "metadata": {},
   "outputs": [
    {
     "data": {
      "text/plain": [
       "True    25069\n",
       "Fake    24902\n",
       "Name: Label, dtype: int64"
      ]
     },
     "execution_count": 11,
     "metadata": {},
     "output_type": "execute_result"
    }
   ],
   "source": [
    "data['stance_cat'] = data['Label'].map({'Fake':0,'True':1}).astype(int)\n",
    "data['Label'].value_counts()"
   ]
  },
  {
   "cell_type": "code",
   "execution_count": 12,
   "metadata": {},
   "outputs": [
    {
     "name": "stdout",
     "output_type": "stream",
     "text": [
      "99942\n",
      "Vocabulary Length is 60973\n"
     ]
    }
   ],
   "source": [
    "corpus = np.r_[data['Head'].values,data['Body'].values]\n",
    "print(len(corpus))\n",
    "\n",
    "vocabulary = []\n",
    "for sentence in corpus:\n",
    "    vocabulary.extend(sentence.split(' '))\n",
    "\n",
    "vocabulary = list(set(vocabulary))\n",
    "vocab_length = len(vocabulary)\n",
    "print(\"Vocabulary Length is {0}\".format(vocab_length))"
   ]
  },
  {
   "cell_type": "code",
   "execution_count": 13,
   "metadata": {},
   "outputs": [],
   "source": [
    "max_features = 5000\n",
    "max_nb_words = 24000\n",
    "EMBEDDING_DIM = 50\n",
    "MAX_SEQUENCE_LENGTH_HEADLINE = 64\n",
    "MAX_SEQUENCE_LENGTH_BODY = 64"
   ]
  },
  {
   "cell_type": "code",
   "execution_count": 14,
   "metadata": {},
   "outputs": [],
   "source": [
    "encoded_docs_headline = [one_hot(sentence,vocab_length) for sentence in data.loc[:,'Head'].tolist()]\n",
    "padded_docs_headline = pad_sequences(encoded_docs_headline,MAX_SEQUENCE_LENGTH_HEADLINE,padding='post')\n",
    "\n",
    "encoded_docs_body = [one_hot(sentence,vocab_length) for sentence in data.loc[:,'Body'].tolist()]\n",
    "padded_docs_body = pad_sequences(encoded_docs_body,MAX_SEQUENCE_LENGTH_BODY,padding='post')\n",
    "\n",
    "\n",
    "labels = to_categorical(data.loc[:,'stance_cat'])"
   ]
  },
  {
   "cell_type": "code",
   "execution_count": 15,
   "metadata": {},
   "outputs": [
    {
     "data": {
      "text/plain": [
       "(49971, 2)"
      ]
     },
     "execution_count": 15,
     "metadata": {},
     "output_type": "execute_result"
    }
   ],
   "source": [
    "labels.shape"
   ]
  },
  {
   "cell_type": "code",
   "execution_count": 16,
   "metadata": {},
   "outputs": [],
   "source": [
    "\n",
    "padded_docs_headline_train = padded_docs_headline[:int(len(padded_docs_headline)*0.8),:]\n",
    "padded_docs_headline_test = padded_docs_headline[int(len(padded_docs_headline)*0.8):,:]\n",
    "\n",
    "padded_docs_body_train = padded_docs_body[:int(len(padded_docs_body)*0.8),:]\n",
    "padded_docs_body_test = padded_docs_body[int(len(padded_docs_body)*0.8):,:]\n",
    "\n",
    "labels_train = labels[:int(len(labels)*0.8),:]\n",
    "labels_test = labels[int(len(labels)*0.8):,:]"
   ]
  },
  {
   "cell_type": "code",
   "execution_count": 17,
   "metadata": {},
   "outputs": [],
   "source": [
    "input_headline = Input(shape=[64],name='input_headline')\n",
    "embedding_headline = Embedding(vocab_length,50,input_length = MAX_SEQUENCE_LENGTH_HEADLINE)(input_headline)\n",
    "# dense_headline = Dense(16,activation='relu')(embedding_headline)\n",
    "\n",
    "input_body = Input(shape=[64],name='input_body')\n",
    "embedding_body = Embedding(vocab_length,50,input_length = MAX_SEQUENCE_LENGTH_BODY)(input_body)\n",
    "# dense_body = Dense(16,activation='relu')(embedding_body)\n",
    "\n",
    "addition_layer = concatenate([embedding_headline,embedding_body])\n",
    "lstm = LSTM(units=64)(addition_layer)\n",
    "# drop = Dropout(0.25)(lstm)\n",
    "\n",
    "# flatten = Flatten()(addition_layer)\n",
    "output = Dense(2,activation='sigmoid')(lstm)\n",
    "\n",
    "model_combined = Model(inputs=[input_headline,input_body],outputs=output)\n",
    "\n",
    "model_combined.compile(optimizer = 'adam',loss ='categorical_crossentropy',metrics = ['accuracy'])"
   ]
  },
  {
   "cell_type": "code",
   "execution_count": 18,
   "metadata": {},
   "outputs": [
    {
     "name": "stdout",
     "output_type": "stream",
     "text": [
      "Model: \"model\"\n",
      "__________________________________________________________________________________________________\n",
      "Layer (type)                    Output Shape         Param #     Connected to                     \n",
      "==================================================================================================\n",
      "input_headline (InputLayer)     [(None, 64)]         0                                            \n",
      "__________________________________________________________________________________________________\n",
      "input_body (InputLayer)         [(None, 64)]         0                                            \n",
      "__________________________________________________________________________________________________\n",
      "embedding (Embedding)           (None, 64, 50)       3048650     input_headline[0][0]             \n",
      "__________________________________________________________________________________________________\n",
      "embedding_1 (Embedding)         (None, 64, 50)       3048650     input_body[0][0]                 \n",
      "__________________________________________________________________________________________________\n",
      "concatenate (Concatenate)       (None, 64, 100)      0           embedding[0][0]                  \n",
      "                                                                 embedding_1[0][0]                \n",
      "__________________________________________________________________________________________________\n",
      "lstm (LSTM)                     (None, 64)           42240       concatenate[0][0]                \n",
      "__________________________________________________________________________________________________\n",
      "dense (Dense)                   (None, 2)            130         lstm[0][0]                       \n",
      "==================================================================================================\n",
      "Total params: 6,139,670\n",
      "Trainable params: 6,139,670\n",
      "Non-trainable params: 0\n",
      "__________________________________________________________________________________________________\n"
     ]
    }
   ],
   "source": [
    "\n",
    "model_combined.summary()"
   ]
  },
  {
   "cell_type": "code",
   "execution_count": 19,
   "metadata": {},
   "outputs": [
    {
     "name": "stdout",
     "output_type": "stream",
     "text": [
      "Epoch 1/15\n",
      "1250/1250 [==============================] - 64s 50ms/step - loss: 0.6559 - accuracy: 0.6143 - val_loss: 0.7378 - val_accuracy: 0.5636\n",
      "Epoch 2/15\n",
      "1250/1250 [==============================] - 62s 50ms/step - loss: 0.4715 - accuracy: 0.7864 - val_loss: 0.8326 - val_accuracy: 0.5602\n",
      "Epoch 3/15\n",
      "1250/1250 [==============================] - 62s 50ms/step - loss: 0.3467 - accuracy: 0.8554 - val_loss: 0.9727 - val_accuracy: 0.5412\n",
      "Epoch 4/15\n",
      "1250/1250 [==============================] - 62s 49ms/step - loss: 0.2660 - accuracy: 0.8922 - val_loss: 1.2186 - val_accuracy: 0.5303\n",
      "Epoch 5/15\n",
      "1250/1250 [==============================] - 62s 49ms/step - loss: 0.2129 - accuracy: 0.9135 - val_loss: 1.5546 - val_accuracy: 0.5269\n",
      "Epoch 6/15\n",
      "1250/1250 [==============================] - 62s 49ms/step - loss: 0.1704 - accuracy: 0.9329 - val_loss: 1.9495 - val_accuracy: 0.5355\n",
      "Epoch 7/15\n",
      "1250/1250 [==============================] - 62s 49ms/step - loss: 0.1331 - accuracy: 0.9499 - val_loss: 1.9327 - val_accuracy: 0.5283\n",
      "Epoch 8/15\n",
      "1250/1250 [==============================] - 62s 49ms/step - loss: 0.1057 - accuracy: 0.9618 - val_loss: 2.0818 - val_accuracy: 0.5329\n",
      "Epoch 9/15\n",
      "1250/1250 [==============================] - 62s 50ms/step - loss: 0.0870 - accuracy: 0.9688 - val_loss: 2.0337 - val_accuracy: 0.5221\n",
      "Epoch 10/15\n",
      "1250/1250 [==============================] - 62s 50ms/step - loss: 0.0704 - accuracy: 0.9761 - val_loss: 2.3145 - val_accuracy: 0.5291\n",
      "Epoch 11/15\n",
      "1250/1250 [==============================] - 62s 50ms/step - loss: 0.0593 - accuracy: 0.9814 - val_loss: 2.6395 - val_accuracy: 0.5230\n",
      "Epoch 12/15\n",
      "1250/1250 [==============================] - 62s 50ms/step - loss: 0.0519 - accuracy: 0.9836 - val_loss: 2.5234 - val_accuracy: 0.5209\n",
      "Epoch 13/15\n",
      "1250/1250 [==============================] - 62s 50ms/step - loss: 0.0405 - accuracy: 0.9874 - val_loss: 2.1873 - val_accuracy: 0.5091\n",
      "Epoch 14/15\n",
      "1250/1250 [==============================] - 62s 49ms/step - loss: 0.0356 - accuracy: 0.9891 - val_loss: 2.6391 - val_accuracy: 0.5159\n",
      "Epoch 15/15\n",
      "1250/1250 [==============================] - 62s 50ms/step - loss: 0.0264 - accuracy: 0.9921 - val_loss: 2.5021 - val_accuracy: 0.5243\n"
     ]
    },
    {
     "data": {
      "text/plain": [
       "<tensorflow.python.keras.callbacks.History at 0x7fbaa87dce20>"
      ]
     },
     "execution_count": 19,
     "metadata": {},
     "output_type": "execute_result"
    }
   ],
   "source": [
    "model_combined.fit([padded_docs_headline_train,padded_docs_body_train],labels_train,epochs=15,verbose=1,validation_data=([padded_docs_headline_test,padded_docs_body_test],labels_test))"
   ]
  },
  {
   "cell_type": "code",
   "execution_count": 20,
   "metadata": {},
   "outputs": [
    {
     "name": "stdout",
     "output_type": "stream",
     "text": [
      "Correct predictions: 5243.0\n",
      "Total number of test examples: 9995\n",
      "Accuracy of model1:  0.5245622811405702\n",
      "f1_score(macro): 0.5239588022728834\n"
     ]
    },
    {
     "data": {
      "text/plain": [
       "<matplotlib.axes._subplots.AxesSubplot at 0x7fba40197d00>"
      ]
     },
     "execution_count": 20,
     "metadata": {},
     "output_type": "execute_result"
    },
    {
     "data": {
      "image/png": "[encoded data removed]",
      "text/plain": [
       "<Figure size 432x288 with 2 Axes>"
      ]
     },
     "metadata": {},
     "output_type": "display_data"
    }
   ],
   "source": [
    "import matplotlib.pyplot as plt\n",
    "import seaborn as sns\n",
    "test_preds = model_combined.predict([padded_docs_headline_test,padded_docs_body_test])\n",
    "test_preds = np.round(test_preds)\n",
    "correct_predictions = float(sum(test_preds == labels_test)[0])\n",
    "print(\"Correct predictions:\", correct_predictions)\n",
    "print(\"Total number of test examples:\", len(labels_test))\n",
    "print(\"Accuracy of model1: \", correct_predictions/float(len(labels_test)))\n",
    "from sklearn.metrics import  f1_score\n",
    "print(\"f1_score(macro): {}\".format(f1_score(labels_test, test_preds, average=\"macro\")))\n",
    "# Creating the Confusion Matrix\n",
    "from sklearn.metrics import confusion_matrix\n",
    "x_pred = model_combined.predict([padded_docs_headline_test,padded_docs_body_test])\n",
    "x_pred = np.round(x_pred)\n",
    "x_pred = x_pred.argmax(1)\n",
    "y_test_s = labels_test.argmax(1)\n",
    "cm = confusion_matrix(y_test_s, x_pred)\n",
    "sns.set(font_scale=1.4)#for label size\n",
    "sns.heatmap(cm,annot=True,annot_kws={\"size\": 16},fmt='1f')# font size"
   ]
  },
  {
   "cell_type": "code",
   "execution_count": null,
   "metadata": {},
   "outputs": [],
   "source": []
  }
 ],
 "metadata": {
  "kernelspec": {
   "display_name": "Python 3",
   "language": "python",
   "name": "python3"
  },
  "language_info": {
   "codemirror_mode": {
    "name": "ipython",
    "version": 3
   },
   "file_extension": ".py",
   "mimetype": "text/x-python",
   "name": "python",
   "nbconvert_exporter": "python",
   "pygments_lexer": "ipython3",
   "version": "3.8.3"
  }
 },
 "nbformat": 4,
 "nbformat_minor": 4
}
