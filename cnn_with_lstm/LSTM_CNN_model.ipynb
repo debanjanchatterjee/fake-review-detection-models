{
  "nbformat": 4,
  "nbformat_minor": 0,
  "metadata": {
    "colab": {
      "name": "LSTM_CNN_model.ipynb",
      "provenance": [],
      "collapsed_sections": []
    },
    "kernelspec": {
      "name": "python3",
      "display_name": "Python 3"
    },
    "language_info": {
      "name": "python"
    }
  },
  "cells": [
    {
      "cell_type": "code",
      "metadata": {
        "colab": {
          "base_uri": "https://localhost:8080/"
        },
        "id": "vdmIWxtsRPfT",
        "outputId": "e64baced-8fd9-4875-8a16-2edd78b98505"
      },
      "source": [
        "# Import Statements\n",
        "import keras\n",
        "from tensorflow.python.client import device_lib\n",
        "\n",
        "print(device_lib.list_local_devices())\n",
        "import numpy as np\n",
        "import pandas as pd\n",
        "from collections import defaultdict\n",
        "import re\n",
        "\n",
        "\n",
        "import sys\n",
        "import os\n",
        "\n",
        "from keras.preprocessing.text import Tokenizer\n",
        "from keras.preprocessing.sequence import pad_sequences\n",
        "from keras.utils.np_utils import to_categorical\n",
        "\n",
        "from keras.layers import Embedding\n",
        "from keras.layers import Dense, Input, Flatten\n",
        "from keras.layers import Conv1D, MaxPooling1D, Embedding, merge, Dropout\n",
        "from keras.models import Model\n",
        "\n",
        "MAX_SEQUENCE_LENGTH = 1000\n",
        "MAX_NB_WORDS = 200000\n",
        "EMBEDDING_DIM = 100\n",
        "VALIDATION_SPLIT = 0.2"
      ],
      "execution_count": 1,
      "outputs": [
        {
          "output_type": "stream",
          "text": [
            "[name: \"/device:CPU:0\"\n",
            "device_type: \"CPU\"\n",
            "memory_limit: 268435456\n",
            "locality {\n",
            "}\n",
            "incarnation: 4868330521882934229\n",
            "]\n"
          ],
          "name": "stdout"
        }
      ]
    },
    {
      "cell_type": "markdown",
      "metadata": {
        "id": "6PbwpssvTH4m"
      },
      "source": [
        "**Data Pre-processing**"
      ]
    },
    {
      "cell_type": "code",
      "metadata": {
        "id": "7nQoLt7Lbg2N"
      },
      "source": [
        "def clean_str(string):\n",
        "    \"\"\"\n",
        "    Cleaning of dataset\n",
        "    \"\"\"\n",
        "    string = re.sub(r\"\\\\\", \"\", string)    \n",
        "    string = re.sub(r\"\\'\", \"\", string)    \n",
        "    string = re.sub(r\"\\\"\", \"\", string)    \n",
        "    return string.strip().lower()"
      ],
      "execution_count": 2,
      "outputs": []
    },
    {
      "cell_type": "code",
      "metadata": {
        "id": "zawnM85mTKtI"
      },
      "source": [
        "dataset = pd.read_csv('/content/drive/MyDrive/NLP Project/dataset.csv')"
      ],
      "execution_count": 3,
      "outputs": []
    },
    {
      "cell_type": "code",
      "metadata": {
        "colab": {
          "base_uri": "https://localhost:8080/",
          "height": 206
        },
        "id": "fx__pPcnTg-N",
        "outputId": "dccdb20f-8007-42cd-f5e5-8c3a506b314e"
      },
      "source": [
        "dataset.head()"
      ],
      "execution_count": 4,
      "outputs": [
        {
          "output_type": "execute_result",
          "data": {
            "text/html": [
              "<div>\n",
              "<style scoped>\n",
              "    .dataframe tbody tr th:only-of-type {\n",
              "        vertical-align: middle;\n",
              "    }\n",
              "\n",
              "    .dataframe tbody tr th {\n",
              "        vertical-align: top;\n",
              "    }\n",
              "\n",
              "    .dataframe thead th {\n",
              "        text-align: right;\n",
              "    }\n",
              "</style>\n",
              "<table border=\"1\" class=\"dataframe\">\n",
              "  <thead>\n",
              "    <tr style=\"text-align: right;\">\n",
              "      <th></th>\n",
              "      <th>Head</th>\n",
              "      <th>Body</th>\n",
              "      <th>Label</th>\n",
              "      <th>Features</th>\n",
              "    </tr>\n",
              "  </thead>\n",
              "  <tbody>\n",
              "    <tr>\n",
              "      <th>0</th>\n",
              "      <td>food snack selection popular greek dishes</td>\n",
              "      <td>underwhelmed main courses tables sometimes har...</td>\n",
              "      <td>0</td>\n",
              "      <td>5.0 4.435897435897436 39 4.0 4.009523809523809...</td>\n",
              "    </tr>\n",
              "    <tr>\n",
              "      <th>1</th>\n",
              "      <td>little place soho wonderful</td>\n",
              "      <td>price shocked small serving soho staff little ...</td>\n",
              "      <td>0</td>\n",
              "      <td>3.0 3.0 1 4.0 4.0095238095238095 210 4 3</td>\n",
              "    </tr>\n",
              "    <tr>\n",
              "      <th>2</th>\n",
              "      <td>ordered lunch snack last friday</td>\n",
              "      <td>added regular company lunch list everyone enjo...</td>\n",
              "      <td>0</td>\n",
              "      <td>4.0 4.0 2 4.0 4.0095238095238095 210 3 4</td>\n",
              "    </tr>\n",
              "    <tr>\n",
              "      <th>3</th>\n",
              "      <td>beautiful quaint little restaurant pretty street</td>\n",
              "      <td>heard reviews lamb sandwich try happy every si...</td>\n",
              "      <td>0</td>\n",
              "      <td>4.0 4.0 1 4.0 4.0095238095238095 210 7 4</td>\n",
              "    </tr>\n",
              "    <tr>\n",
              "      <th>4</th>\n",
              "      <td>snack great place casual sit lunch especially ...</td>\n",
              "      <td>avgolemono soup lemony perfection butter bean ...</td>\n",
              "      <td>0</td>\n",
              "      <td>4.0 3.6 5 4.0 4.0095238095238095 210 6 4</td>\n",
              "    </tr>\n",
              "  </tbody>\n",
              "</table>\n",
              "</div>"
            ],
            "text/plain": [
              "                                                Head  ...                                           Features\n",
              "0          food snack selection popular greek dishes  ...  5.0 4.435897435897436 39 4.0 4.009523809523809...\n",
              "1                        little place soho wonderful  ...           3.0 3.0 1 4.0 4.0095238095238095 210 4 3\n",
              "2                    ordered lunch snack last friday  ...           4.0 4.0 2 4.0 4.0095238095238095 210 3 4\n",
              "3   beautiful quaint little restaurant pretty street  ...           4.0 4.0 1 4.0 4.0095238095238095 210 7 4\n",
              "4  snack great place casual sit lunch especially ...  ...           4.0 3.6 5 4.0 4.0095238095238095 210 6 4\n",
              "\n",
              "[5 rows x 4 columns]"
            ]
          },
          "metadata": {
            "tags": []
          },
          "execution_count": 4
        }
      ]
    },
    {
      "cell_type": "code",
      "metadata": {
        "id": "zrMRnXal164g"
      },
      "source": [
        "dataset=dataset.sort_values(by=['Label'],ascending=True)"
      ],
      "execution_count": 5,
      "outputs": []
    },
    {
      "cell_type": "code",
      "metadata": {
        "id": "pHlsUOYs2Tr4"
      },
      "source": [
        "dataset=dataset[0:50000]"
      ],
      "execution_count": 6,
      "outputs": []
    },
    {
      "cell_type": "code",
      "metadata": {
        "colab": {
          "base_uri": "https://localhost:8080/",
          "height": 143
        },
        "id": "costDmh42ZtD",
        "outputId": "d99ef89d-dbd2-4ee3-abac-d157801ce31f"
      },
      "source": [
        "dataset.groupby('Label').count()"
      ],
      "execution_count": 7,
      "outputs": [
        {
          "output_type": "execute_result",
          "data": {
            "text/html": [
              "<div>\n",
              "<style scoped>\n",
              "    .dataframe tbody tr th:only-of-type {\n",
              "        vertical-align: middle;\n",
              "    }\n",
              "\n",
              "    .dataframe tbody tr th {\n",
              "        vertical-align: top;\n",
              "    }\n",
              "\n",
              "    .dataframe thead th {\n",
              "        text-align: right;\n",
              "    }\n",
              "</style>\n",
              "<table border=\"1\" class=\"dataframe\">\n",
              "  <thead>\n",
              "    <tr style=\"text-align: right;\">\n",
              "      <th></th>\n",
              "      <th>Head</th>\n",
              "      <th>Body</th>\n",
              "      <th>Features</th>\n",
              "    </tr>\n",
              "    <tr>\n",
              "      <th>Label</th>\n",
              "      <th></th>\n",
              "      <th></th>\n",
              "      <th></th>\n",
              "    </tr>\n",
              "  </thead>\n",
              "  <tbody>\n",
              "    <tr>\n",
              "      <th>0</th>\n",
              "      <td>24903</td>\n",
              "      <td>24903</td>\n",
              "      <td>24903</td>\n",
              "    </tr>\n",
              "    <tr>\n",
              "      <th>1</th>\n",
              "      <td>25097</td>\n",
              "      <td>25097</td>\n",
              "      <td>25097</td>\n",
              "    </tr>\n",
              "  </tbody>\n",
              "</table>\n",
              "</div>"
            ],
            "text/plain": [
              "        Head   Body  Features\n",
              "Label                        \n",
              "0      24903  24903     24903\n",
              "1      25097  25097     25097"
            ]
          },
          "metadata": {
            "tags": []
          },
          "execution_count": 7
        }
      ]
    },
    {
      "cell_type": "code",
      "metadata": {
        "id": "ZdaMGXPPbox5"
      },
      "source": [
        "texts = []\n",
        "labels = []\n",
        "\n",
        "for i in range(len(dataset)):\n",
        "    text1 = dataset['Head'].iloc[i]\n",
        "    text2 = dataset['Body'].iloc[i]\n",
        "    text = str(text1) +\"\"+ str(text2)\n",
        "    texts.append(text)\n",
        "    labels.append(dataset['Label'].iloc[i])\n",
        "    \n",
        "tokenizer = Tokenizer(num_words=MAX_NB_WORDS)\n",
        "tokenizer.fit_on_texts(texts)\n",
        "sequences = tokenizer.texts_to_sequences(texts)\n",
        "\n",
        "word_index = tokenizer.word_index"
      ],
      "execution_count": 8,
      "outputs": []
    },
    {
      "cell_type": "code",
      "metadata": {
        "id": "lSMLJWxJgopO",
        "colab": {
          "base_uri": "https://localhost:8080/",
          "height": 36
        },
        "outputId": "d853bfb7-adfd-4507-83da-e1a0ad24e76f"
      },
      "source": [
        "'''\n",
        "for l in range(len(labels)):\n",
        "  if labels[l]==-1:\n",
        "    labels[l]=0 #change fake label to 0\n",
        "'''"
      ],
      "execution_count": 9,
      "outputs": [
        {
          "output_type": "execute_result",
          "data": {
            "application/vnd.google.colaboratory.intrinsic+json": {
              "type": "string"
            },
            "text/plain": [
              "'\\nfor l in range(len(labels)):\\n  if labels[l]==-1:\\n    labels[l]=0 #change fake label to 0\\n'"
            ]
          },
          "metadata": {
            "tags": []
          },
          "execution_count": 9
        }
      ]
    },
    {
      "cell_type": "code",
      "metadata": {
        "colab": {
          "base_uri": "https://localhost:8080/"
        },
        "id": "e2FDMuSWY-eL",
        "outputId": "240890bf-e8b0-4a19-8e3b-9b200e5ed89d"
      },
      "source": [
        "# Pad input sequences\n",
        "data = pad_sequences(sequences, maxlen=MAX_SEQUENCE_LENGTH)\n",
        "labels1 = to_categorical(np.asarray(labels),num_classes = 2)\n",
        "print('Shape of data tensor:', data.shape)\n",
        "print('Shape of label tensor:', labels1.shape)"
      ],
      "execution_count": 10,
      "outputs": [
        {
          "output_type": "stream",
          "text": [
            "Shape of data tensor: (50000, 1000)\n",
            "Shape of label tensor: (50000, 2)\n"
          ],
          "name": "stdout"
        }
      ]
    },
    {
      "cell_type": "code",
      "metadata": {
        "colab": {
          "base_uri": "https://localhost:8080/"
        },
        "id": "E8RFOtLZYHsi",
        "outputId": "afbdde00-ca71-4336-8bb0-df0517262112"
      },
      "source": [
        "# Train test validation Split\n",
        "from sklearn.model_selection import train_test_split\n",
        "indices = np.arange(data.shape[0])\n",
        "np.random.shuffle(indices)\n",
        "data = data[indices]\n",
        "labels = labels1[indices]\n",
        "x_train, x_test_all, y_train, y_test_all = train_test_split( data, labels, test_size=0.20, random_state=7)\n",
        "x_test, x_val, y_test, y_val = train_test_split( x_test_all, y_test_all, test_size=0.50, random_state=7)\n",
        "print('Size of train, validation, test:', len(y_train), len(y_val), len(y_test))\n",
        "\n",
        "print('real & fake reviews in train,valt,test:')\n",
        "print(y_train.sum(axis=0))\n",
        "print(y_val.sum(axis=0))\n",
        "print(y_test.sum(axis=0))"
      ],
      "execution_count": 11,
      "outputs": [
        {
          "output_type": "stream",
          "text": [
            "Size of train, validation, test: 40000 5000 5000\n",
            "real & fake reviews in train,valt,test:\n",
            "[19994. 20006.]\n",
            "[2474. 2526.]\n",
            "[2435. 2565.]\n"
          ],
          "name": "stdout"
        }
      ]
    },
    {
      "cell_type": "code",
      "metadata": {
        "id": "VbEfDtr3iXGd"
      },
      "source": [
        "from keras.models import Sequential\n",
        "from keras.layers.convolutional import Conv3D\n",
        "from keras.layers.convolutional_recurrent import ConvLSTM2D\n",
        "from keras.layers.normalization import BatchNormalization\n",
        "import numpy as np\n",
        "from matplotlib import pyplot as plt\n",
        "from keras.layers import Dense, Embedding, LSTM\n",
        "\n",
        "%matplotlib inline"
      ],
      "execution_count": 12,
      "outputs": []
    },
    {
      "cell_type": "code",
      "metadata": {
        "colab": {
          "base_uri": "https://localhost:8080/"
        },
        "id": "8Z1h0W8AiYKq",
        "outputId": "f0306e56-bd9f-4335-8ea4-fa0391f4e623"
      },
      "source": [
        "#Using Pre-trained word embeddings\n",
        "GLOVE_DIR = \"/content/drive/MyDrive/NLP Project\" \n",
        "embeddings_index = {}\n",
        "f = open(os.path.join(GLOVE_DIR, 'glove.6B.100d.txt'), encoding=\"utf8\")\n",
        "for line in f:\n",
        "    values = line.split()\n",
        "    #print(values[1:])\n",
        "    word = values[0]\n",
        "    coefs = np.asarray(values[1:], dtype='float32')\n",
        "    embeddings_index[word] = coefs\n",
        "f.close()\n",
        "\n",
        "print('Total %s word vectors in Glove.' % len(embeddings_index))\n",
        "\n",
        "embedding_matrix = np.random.random((len(word_index) + 1, EMBEDDING_DIM))\n",
        "for word, i in word_index.items():\n",
        "    embedding_vector = embeddings_index.get(word)\n",
        "    if embedding_vector is not None:\n",
        "        # words not found in embedding index will be all-zeros.\n",
        "        embedding_matrix[i] = embedding_vector\n",
        "        \n",
        "embedding_layer = Embedding(len(word_index) + 1,\n",
        "                            EMBEDDING_DIM,\n",
        "                            weights=[embedding_matrix],\n",
        "                            input_length=MAX_SEQUENCE_LENGTH)"
      ],
      "execution_count": 13,
      "outputs": [
        {
          "output_type": "stream",
          "text": [
            "Total 400000 word vectors in Glove.\n"
          ],
          "name": "stdout"
        }
      ]
    },
    {
      "cell_type": "code",
      "metadata": {
        "colab": {
          "base_uri": "https://localhost:8080/"
        },
        "id": "HJ26Bm5YjRUq",
        "outputId": "4716c45d-5a9e-4943-d2f2-d80eed3e77b0"
      },
      "source": [
        "embedding_vecor_length = 32\n",
        "modell = Sequential()\n",
        "modell.add(embedding_layer)\n",
        "modell.add(Dropout(0.2))\n",
        "modell.add(Conv1D(filters=32, kernel_size=5, padding='same', activation='relu'))\n",
        "modell.add(MaxPooling1D(pool_size=2))\n",
        "modell.add(Conv1D(filters=64, kernel_size=3, padding='same', activation='relu'))\n",
        "modell.add(MaxPooling1D(pool_size=2))\n",
        "modell.add(LSTM(100, dropout=0.2, recurrent_dropout=0.2))\n",
        "modell.add(BatchNormalization())\n",
        "modell.add(Dense(256, activation='relu'))\n",
        "modell.add(Dense(128, activation='relu'))\n",
        "modell.add(Dense(64, activation='relu'))\n",
        "modell.add(Dense(2, activation='softmax'))\n",
        "modell.compile(loss='binary_crossentropy', optimizer='adam', metrics=['accuracy'])\n",
        "print(modell.summary())\n",
        "#modell.load_weights('/content/drive/MyDrive/NLP Project/lstm_undersampled_1.h5')\n",
        "modell.fit(x_train, y_train, epochs=5, batch_size=64)\n",
        "\n",
        "modell.save('/content/drive/MyDrive/NLP Project/lstm_cnn_model.h5')"
      ],
      "execution_count": 14,
      "outputs": [
        {
          "output_type": "stream",
          "text": [
            "Model: \"sequential\"\n",
            "_________________________________________________________________\n",
            "Layer (type)                 Output Shape              Param #   \n",
            "=================================================================\n",
            "embedding (Embedding)        (None, 1000, 100)         10156800  \n",
            "_________________________________________________________________\n",
            "dropout (Dropout)            (None, 1000, 100)         0         \n",
            "_________________________________________________________________\n",
            "conv1d (Conv1D)              (None, 1000, 32)          16032     \n",
            "_________________________________________________________________\n",
            "max_pooling1d (MaxPooling1D) (None, 500, 32)           0         \n",
            "_________________________________________________________________\n",
            "conv1d_1 (Conv1D)            (None, 500, 64)           6208      \n",
            "_________________________________________________________________\n",
            "max_pooling1d_1 (MaxPooling1 (None, 250, 64)           0         \n",
            "_________________________________________________________________\n",
            "lstm (LSTM)                  (None, 100)               66000     \n",
            "_________________________________________________________________\n",
            "batch_normalization (BatchNo (None, 100)               400       \n",
            "_________________________________________________________________\n",
            "dense (Dense)                (None, 256)               25856     \n",
            "_________________________________________________________________\n",
            "dense_1 (Dense)              (None, 128)               32896     \n",
            "_________________________________________________________________\n",
            "dense_2 (Dense)              (None, 64)                8256      \n",
            "_________________________________________________________________\n",
            "dense_3 (Dense)              (None, 2)                 130       \n",
            "=================================================================\n",
            "Total params: 10,312,578\n",
            "Trainable params: 10,312,378\n",
            "Non-trainable params: 200\n",
            "_________________________________________________________________\n",
            "None\n",
            "Epoch 1/5\n",
            "625/625 [==============================] - 627s 1000ms/step - loss: 0.6542 - accuracy: 0.6179\n",
            "Epoch 2/5\n",
            "625/625 [==============================] - 616s 985ms/step - loss: 0.5187 - accuracy: 0.7424\n",
            "Epoch 3/5\n",
            "625/625 [==============================] - 618s 989ms/step - loss: 0.3781 - accuracy: 0.8351\n",
            "Epoch 4/5\n",
            "625/625 [==============================] - 616s 986ms/step - loss: 0.2419 - accuracy: 0.9037\n",
            "Epoch 5/5\n",
            "625/625 [==============================] - 618s 989ms/step - loss: 0.1554 - accuracy: 0.9403\n"
          ],
          "name": "stdout"
        }
      ]
    },
    {
      "cell_type": "code",
      "metadata": {
        "id": "OxVaIRDyjmfT",
        "colab": {
          "base_uri": "https://localhost:8080/",
          "height": 364
        },
        "outputId": "c727f5a3-8b3e-41d0-95ad-cbf962af58e5"
      },
      "source": [
        "#modell.load_weights('/content/drive/MyDrive/NLP Project/lstm_cnn_model_1.h5')\n",
        "import matplotlib.pyplot as plt\n",
        "import seaborn as sns\n",
        "test_preds = modell.predict(x_test)\n",
        "test_preds = np.round(test_preds)\n",
        "correct_predictions = float(sum(test_preds == y_test)[0])\n",
        "print(\"Correct predictions:\", correct_predictions)\n",
        "print(\"Total number of test examples:\", len(y_test))\n",
        "print(\"Accuracy of model1: \", correct_predictions/float(len(y_test)))\n",
        "from sklearn.metrics import  f1_score\n",
        "print(\"f1_score(macro): {}\".format(f1_score(y_test, test_preds, average=\"macro\")))\n",
        "# Creating the Confusion Matrix\n",
        "from sklearn.metrics import confusion_matrix\n",
        "x_pred = modell.predict(x_test)\n",
        "x_pred = np.round(x_pred)\n",
        "x_pred = x_pred.argmax(1)\n",
        "y_test_s = y_test.argmax(1)\n",
        "cm = confusion_matrix(y_test_s, x_pred)\n",
        "sns.set(font_scale=1.4)#for label size\n",
        "sns.heatmap(cm,annot=True,annot_kws={\"size\": 16},fmt='1f')# font size"
      ],
      "execution_count": 18,
      "outputs": [
        {
          "output_type": "stream",
          "text": [
            "Correct predictions: 3574.0\n",
            "Total number of test examples: 5000\n",
            "Accuracy of model1:  0.7148\n",
            "f1_score(macro): 0.7146516645212848\n"
          ],
          "name": "stdout"
        },
        {
          "output_type": "execute_result",
          "data": {
            "text/plain": [
              "<matplotlib.axes._subplots.AxesSubplot at 0x7f1bd5152b90>"
            ]
          },
          "metadata": {
            "tags": []
          },
          "execution_count": 18
        },
        {
          "output_type": "display_data",
          "data": {
            "image/png": "[encoded data removed]",
            "text/plain": [
              "<Figure size 432x288 with 2 Axes>"
            ]
          },
          "metadata": {
            "tags": []
          }
        }
      ]
    }
  ]
}